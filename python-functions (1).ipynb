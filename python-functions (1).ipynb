{
 "cells": [
  {
   "cell_type": "markdown",
   "id": "bfdf3386-ba37-4f13-9ce3-b054f0238b43",
   "metadata": {},
   "source": [
    "1. Write a Python function named ConvertToArray(str) which takes a string of numbers separated by commas and colon. The function should then convert this string into a array of numbersr"
   ]
  },
  {
   "cell_type": "code",
   "execution_count": 1,
   "id": "e9f763d1-4424-4134-bb7d-038787c01ef9",
   "metadata": {},
   "outputs": [
    {
     "name": "stdout",
     "output_type": "stream",
     "text": [
      "[[1.1, 2.0, 3.0], [4.0, 5.55, 6.0], [7.0, 8.0, 9.09]]\n"
     ]
    }
   ],
   "source": [
    "def ConvertToArray(s):  \n",
    "    return [list(map(float, row.split(','))) for row in s.split(';')]  \n",
    "\n",
    "input_str = '1.1,2,3;4,5.55,6;7,8,9.09'  \n",
    "result = ConvertToArray(input_str)  \n",
    "print(result)"
   ]
  },
  {
   "cell_type": "markdown",
   "id": "3a3ff565-161c-4ada-980f-cd25b65f8a7f",
   "metadata": {},
   "source": [
    "2. Write a function named ArraySize(array) which accepts a list of numbers and returns its dimensionn"
   ]
  },
  {
   "cell_type": "code",
   "execution_count": 2,
   "id": "45c79fa4-574d-45fe-b51a-2d3cb427069d",
   "metadata": {},
   "outputs": [
    {
     "name": "stdout",
     "output_type": "stream",
     "text": [
      "(1, 4)\n",
      "(2, 4)\n"
     ]
    }
   ],
   "source": [
    "def ArraySize(array):  \n",
    "    if len(array) == 0:  \n",
    "        return (0, 0)  \n",
    "    if type(array[0]) == list:\n",
    "        return (len(array), len(array[0]))\n",
    "    else:  \n",
    "        return (1, len(array))\n",
    "\n",
    "array1 = [1, 2, 3, 0]  \n",
    "array2 = [[1, 2, 3, 4], [5, 6, 7, 8]]  \n",
    "print(ArraySize(array1))  \n",
    "print(ArraySize(array2)) "
   ]
  },
  {
   "cell_type": "markdown",
   "id": "2aa98de9-34a1-4a1a-8dd3-e99c3701160d",
   "metadata": {},
   "source": [
    "3. Write a function named NonZeroEntries(array) which accepts an array and returns True\n",
    "if all the entries in that array are non-zero else return  False"
   ]
  },
  {
   "cell_type": "code",
   "execution_count": 3,
   "id": "2d6ef38e-2241-4ac1-9216-16099f4fee66",
   "metadata": {},
   "outputs": [
    {
     "name": "stdout",
     "output_type": "stream",
     "text": [
      "True\n",
      "False\n",
      "True\n",
      "False\n"
     ]
    }
   ],
   "source": [
    "def NonZeroEntries(array):  \n",
    "    if len(array) > 0 and type(array[0]) == list:   \n",
    "        return not any(any(x == 0 for x in row) for row in array)  \n",
    "    else:   \n",
    "        return not any(x == 0 for x in array)   \n",
    "array1 = [1, 2, 3]  \n",
    "array2 = [1, 0, 3]  \n",
    "array3 = [[1, 2], [3, 4]]  \n",
    "array4 = [[1, 2], [0, 4]]  \n",
    "\n",
    "print(NonZeroEntries(array1)) \n",
    "print(NonZeroEntries(array2))   \n",
    "print(NonZeroEntries(array3))  \n",
    "print(NonZeroEntries(array4))  "
   ]
  },
  {
   "cell_type": "markdown",
   "id": "9c257b3d-a948-4690-af16-82f5ad146b3e",
   "metadata": {},
   "source": [
    "4. Write a function ArrayOperations(array1,array2,operation) where the operation\r\n",
    "is either add, subtract, dotproduct and dotdivide. Then the function should perform the operations of addition, subtraction, and element-wise multiplication, division respectively on the arrays array1\r\n",
    "and array2"
   ]
  },
  {
   "cell_type": "code",
   "execution_count": 4,
   "id": "b30b1ff1-d57b-4965-84f3-aaa929cd96fa",
   "metadata": {},
   "outputs": [
    {
     "name": "stdout",
     "output_type": "stream",
     "text": [
      "[[6, 8], [10, 12]]\n",
      "[[-4, -4], [-4, -4]]\n",
      "[[5, 12], [21, 32]]\n",
      "[[0.2, 0.3333333333333333], [0.42857142857142855, 0.5]]\n",
      "[[1.0, 1.0], [1.0, 1.0]]\n",
      "Error: Invalid operation.\n",
      "Element-wise Division is not possible as at least one of the entries in Array-2 is Zero.\n"
     ]
    }
   ],
   "source": [
    "def ArrayOperations(array1, array2, operation):  \n",
    "    size1 = ArraySize(array1)  \n",
    "    size2 = ArraySize(array2)  \n",
    "\n",
    "    if size1 != size2:  \n",
    "        return \"Error: Arrays must have the same dimensions.\"  \n",
    "\n",
    "    result = []  \n",
    "    for i in range(size1[0]):  \n",
    "        row_result = []  \n",
    "        for j in range(size1[1]):  \n",
    "            if operation == 'add':  \n",
    "                row_result.append(array1[i][j] + array2[i][j])  \n",
    "            elif operation == 'subtract':  \n",
    "                row_result.append(array1[i][j] - array2[i][j])  \n",
    "            elif operation == 'dotproduct':  \n",
    "                row_result.append(array1[i][j] * array2[i][j])  \n",
    "            elif operation == 'dotdivide':  \n",
    "                if array2[i][j] == 0:  \n",
    "                    return \"Element-wise Division is not possible as at least one of the entries in Array-2 is Zero.\"  \n",
    "                row_result.append(array1[i][j] / array2[i][j])  \n",
    "            else:  \n",
    "                return \"Error: Invalid operation.\"  \n",
    "        result.append(row_result)  \n",
    "    return result  \n",
    "\n",
    "array1 = [[1, 2], [3, 4]]  \n",
    "array2 = [[5, 6], [7, 8]]  \n",
    "print(ArrayOperations(array1, array2, 'add'))         \n",
    "print(ArrayOperations(array1, array2, 'subtract'))    \n",
    "print(ArrayOperations(array1, array2, 'dotproduct'))    \n",
    "print(ArrayOperations(array1, array2, 'dotdivide'))      \n",
    "print(ArrayOperations(array1, array1, 'dotdivide'))      \n",
    "print(ArrayOperations(array1, array2, 'invalid')) \n",
    "\n",
    "array3=[[1,0],[0,1]]\n",
    "print(ArrayOperations(array1, array3, 'dotdivide')) "
   ]
  },
  {
   "cell_type": "markdown",
   "id": "efdc5137-0061-4e70-b1df-d0d5c0bb7db9",
   "metadata": {},
   "source": [
    "5. Extend the above function’s functionality to accept variable number of arrays and perform the\r\n",
    "given operation on all of them.\r"
   ]
  },
  {
   "cell_type": "code",
   "execution_count": 5,
   "id": "36197b35-315b-4b80-949f-24062bc3dd1d",
   "metadata": {},
   "outputs": [
    {
     "name": "stdout",
     "output_type": "stream",
     "text": [
      "[[7, 9], [11, 13]]\n",
      "[[-5, -5], [-5, -5]]\n",
      "[[5, 12], [21, 32]]\n",
      "[[0.2, 0.3333333333333333], [0.42857142857142855, 0.5]]\n"
     ]
    }
   ],
   "source": [
    "def ArrayOperationsMultiple(*arrays, operation):  \n",
    "    if len(arrays) < 2:  \n",
    "        return \"Error: At least two arrays are required.\"  \n",
    "    \n",
    "    result = arrays[0]  \n",
    "    for array in arrays[1:]:  \n",
    "        result = ArrayOperations(result, array, operation)  \n",
    "        if isinstance(result, str):  \n",
    "            return result  \n",
    "    return result  \n",
    "array1 = [[1, 2], [3, 4]]  \n",
    "array2 = [[5, 6], [7, 8]]  \n",
    "array3 = [[1, 1], [1, 1]]  \n",
    "print(ArrayOperationsMultiple(array1, array2, array3, operation='add'))\n",
    "print(ArrayOperationsMultiple(array1, array2, array3, operation='subtract'))\n",
    "print(ArrayOperationsMultiple(array1, array2, array3, operation='dotproduct'))\n",
    "print(ArrayOperationsMultiple(array1, array2, array3, operation='dotdivide'))\n"
   ]
  },
  {
   "cell_type": "code",
   "execution_count": null,
   "id": "4b55ef9c-f747-4af1-acfc-77b7fdd64e27",
   "metadata": {},
   "outputs": [],
   "source": []
  },
  {
   "cell_type": "code",
   "execution_count": null,
   "id": "d5aef5a8-0677-4c14-a21f-40525ef0a406",
   "metadata": {},
   "outputs": [],
   "source": []
  }
 ],
 "metadata": {
  "kernelspec": {
   "display_name": "Python 3 (ipykernel)",
   "language": "python",
   "name": "python3"
  },
  "language_info": {
   "codemirror_mode": {
    "name": "ipython",
    "version": 3
   },
   "file_extension": ".py",
   "mimetype": "text/x-python",
   "name": "python",
   "nbconvert_exporter": "python",
   "pygments_lexer": "ipython3",
   "version": "3.11.7"
  }
 },
 "nbformat": 4,
 "nbformat_minor": 5
}
