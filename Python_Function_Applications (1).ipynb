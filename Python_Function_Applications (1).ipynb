{
 "cells": [
  {
   "cell_type": "markdown",
   "id": "03ac387e",
   "metadata": {},
   "source": [
    "### Pandas Function Applications - `pipe(), apply(), map(), applymap()`"
   ]
  },
  {
   "cell_type": "code",
   "execution_count": 1,
   "id": "bbeadb2e",
   "metadata": {},
   "outputs": [],
   "source": [
    "import pandas as pd\n",
    "import numpy as np"
   ]
  },
  {
   "cell_type": "code",
   "execution_count": 2,
   "id": "d1f62142",
   "metadata": {},
   "outputs": [
    {
     "name": "stdout",
     "output_type": "stream",
     "text": [
      "       col1      col2      col3\n",
      "0 -0.798194  0.142871 -2.268685\n",
      "1 -0.202759  0.277332  1.189999\n",
      "2  1.240305 -0.270209 -0.187633\n",
      "3 -1.278464  1.378662 -0.420646\n",
      "4 -1.814005 -0.453392 -0.726576\n",
      "       col1      col2      col3\n",
      "0  1.201806  2.142871 -0.268685\n",
      "1  1.797241  2.277332  3.189999\n",
      "2  3.240305  1.729791  1.812367\n",
      "3  0.721536  3.378662  1.579354\n",
      "4  0.185995  1.546608  1.273424\n"
     ]
    }
   ],
   "source": [
    "def adder(ele1,ele2):\n",
    "    return ele1+ele2\n",
    "\n",
    "df = pd.DataFrame(np.random.randn(5,3),columns=['col1','col2','col3'])\n",
    "print(df)\n",
    "print(df.pipe(adder,2))"
   ]
  },
  {
   "cell_type": "code",
   "execution_count": 3,
   "id": "3f1ebbe6",
   "metadata": {},
   "outputs": [],
   "source": [
    "df = pd.DataFrame(np.random.randn(5,3),columns=['col1','col2','col3'])"
   ]
  },
  {
   "cell_type": "code",
   "execution_count": 4,
   "id": "07c725b8",
   "metadata": {},
   "outputs": [
    {
     "name": "stdout",
     "output_type": "stream",
     "text": [
      "       col1      col2      col3\n",
      "0  0.723945 -0.451835  0.725826\n",
      "1 -0.756621 -2.555717 -0.209435\n",
      "2  0.939411  0.667544 -0.361046\n",
      "3 -1.523510  0.748769 -0.714229\n",
      "4  0.321660  0.156984  1.957656\n"
     ]
    }
   ],
   "source": [
    "print(df)"
   ]
  },
  {
   "cell_type": "code",
   "execution_count": 5,
   "id": "3a27a6f6",
   "metadata": {},
   "outputs": [
    {
     "name": "stdout",
     "output_type": "stream",
     "text": [
      "0     -4.757299\n",
      "1   -106.002081\n",
      "2    -51.992861\n",
      "3    -68.267916\n",
      "4    -29.542303\n",
      "Name: col1, dtype: float64\n"
     ]
    }
   ],
   "source": [
    "df = pd.DataFrame(np.random.randn(5,3),columns=['col1','col2','col3'])\n",
    "df['col1']\n",
    "# My custom function\n",
    "df1 = df['col1'].map(lambda x:x*100)\n",
    "print(df1)"
   ]
  },
  {
   "cell_type": "code",
   "execution_count": 6,
   "id": "7996b57a",
   "metadata": {},
   "outputs": [],
   "source": [
    "df['col4'] = df['col1'].map(lambda x: x*100)"
   ]
  },
  {
   "cell_type": "code",
   "execution_count": 7,
   "id": "982bbf42",
   "metadata": {},
   "outputs": [
    {
     "data": {
      "text/html": [
       "<div>\n",
       "<style scoped>\n",
       "    .dataframe tbody tr th:only-of-type {\n",
       "        vertical-align: middle;\n",
       "    }\n",
       "\n",
       "    .dataframe tbody tr th {\n",
       "        vertical-align: top;\n",
       "    }\n",
       "\n",
       "    .dataframe thead th {\n",
       "        text-align: right;\n",
       "    }\n",
       "</style>\n",
       "<table border=\"1\" class=\"dataframe\">\n",
       "  <thead>\n",
       "    <tr style=\"text-align: right;\">\n",
       "      <th></th>\n",
       "      <th>col1</th>\n",
       "      <th>col2</th>\n",
       "      <th>col3</th>\n",
       "      <th>col4</th>\n",
       "    </tr>\n",
       "  </thead>\n",
       "  <tbody>\n",
       "    <tr>\n",
       "      <th>0</th>\n",
       "      <td>-0.047573</td>\n",
       "      <td>0.016124</td>\n",
       "      <td>0.718979</td>\n",
       "      <td>-4.757299</td>\n",
       "    </tr>\n",
       "    <tr>\n",
       "      <th>1</th>\n",
       "      <td>-1.060021</td>\n",
       "      <td>-0.483578</td>\n",
       "      <td>1.038260</td>\n",
       "      <td>-106.002081</td>\n",
       "    </tr>\n",
       "    <tr>\n",
       "      <th>2</th>\n",
       "      <td>-0.519929</td>\n",
       "      <td>-1.215882</td>\n",
       "      <td>-1.837255</td>\n",
       "      <td>-51.992861</td>\n",
       "    </tr>\n",
       "    <tr>\n",
       "      <th>3</th>\n",
       "      <td>-0.682679</td>\n",
       "      <td>0.934970</td>\n",
       "      <td>-0.311521</td>\n",
       "      <td>-68.267916</td>\n",
       "    </tr>\n",
       "    <tr>\n",
       "      <th>4</th>\n",
       "      <td>-0.295423</td>\n",
       "      <td>-0.041456</td>\n",
       "      <td>0.963711</td>\n",
       "      <td>-29.542303</td>\n",
       "    </tr>\n",
       "  </tbody>\n",
       "</table>\n",
       "</div>"
      ],
      "text/plain": [
       "       col1      col2      col3        col4\n",
       "0 -0.047573  0.016124  0.718979   -4.757299\n",
       "1 -1.060021 -0.483578  1.038260 -106.002081\n",
       "2 -0.519929 -1.215882 -1.837255  -51.992861\n",
       "3 -0.682679  0.934970 -0.311521  -68.267916\n",
       "4 -0.295423 -0.041456  0.963711  -29.542303"
      ]
     },
     "execution_count": 7,
     "metadata": {},
     "output_type": "execute_result"
    }
   ],
   "source": [
    "df"
   ]
  },
  {
   "cell_type": "code",
   "execution_count": 8,
   "id": "ad944545",
   "metadata": {},
   "outputs": [
    {
     "name": "stdout",
     "output_type": "stream",
     "text": [
      "0    1.801697\n",
      "1    2.298511\n",
      "2    0.967339\n",
      "3    2.256911\n",
      "4    2.198612\n",
      "dtype: float64\n"
     ]
    }
   ],
   "source": [
    "df = pd.DataFrame(np.random.randn(5,3),columns=['col1','col2','col3'])\n",
    "df1 = df.apply(lambda x: x.max() - x.min(), axis=1)\n",
    "print(df1)"
   ]
  },
  {
   "cell_type": "code",
   "execution_count": 9,
   "id": "ba05e31d",
   "metadata": {},
   "outputs": [
    {
     "name": "stdout",
     "output_type": "stream",
     "text": [
      "         col1        col2       col3\n",
      "0  -25.830552  160.046947 -41.971771\n",
      "1  187.455628 -101.829739 -17.996430\n",
      "2   -3.031388   30.794587 -43.904904\n",
      "3   -3.248258  -30.729785  61.358717\n",
      "4   16.291820  -87.152421 -87.919543\n"
     ]
    },
    {
     "name": "stderr",
     "output_type": "stream",
     "text": [
      "C:\\Users\\harne\\AppData\\Local\\Temp\\ipykernel_12984\\2744694982.py:2: FutureWarning: DataFrame.applymap has been deprecated. Use DataFrame.map instead.\n",
      "  df1 = df.applymap(lambda x:x*100)\n"
     ]
    }
   ],
   "source": [
    "df = pd.DataFrame(np.random.randn(5,3),columns=['col1','col2','col3'])\n",
    "df1 = df.applymap(lambda x:x*100)\n",
    "print(df1)"
   ]
  },
  {
   "cell_type": "code",
   "execution_count": 10,
   "id": "4e5417d3",
   "metadata": {},
   "outputs": [],
   "source": [
    "df1=df.apply(lambda x: x*100)"
   ]
  },
  {
   "cell_type": "code",
   "execution_count": 11,
   "id": "4f9f04bb",
   "metadata": {},
   "outputs": [
    {
     "name": "stdout",
     "output_type": "stream",
     "text": [
      "         col1        col2       col3\n",
      "0  -25.830552  160.046947 -41.971771\n",
      "1  187.455628 -101.829739 -17.996430\n",
      "2   -3.031388   30.794587 -43.904904\n",
      "3   -3.248258  -30.729785  61.358717\n",
      "4   16.291820  -87.152421 -87.919543\n"
     ]
    }
   ],
   "source": [
    "print(df1)"
   ]
  },
  {
   "cell_type": "code",
   "execution_count": 12,
   "id": "5d4b079d-a6a1-4127-97eb-c6f199f26778",
   "metadata": {},
   "outputs": [
    {
     "data": {
      "text/html": [
       "<div>\n",
       "<style scoped>\n",
       "    .dataframe tbody tr th:only-of-type {\n",
       "        vertical-align: middle;\n",
       "    }\n",
       "\n",
       "    .dataframe tbody tr th {\n",
       "        vertical-align: top;\n",
       "    }\n",
       "\n",
       "    .dataframe thead th {\n",
       "        text-align: right;\n",
       "    }\n",
       "</style>\n",
       "<table border=\"1\" class=\"dataframe\">\n",
       "  <thead>\n",
       "    <tr style=\"text-align: right;\">\n",
       "      <th></th>\n",
       "      <th>col1</th>\n",
       "      <th>col2</th>\n",
       "      <th>col3</th>\n",
       "    </tr>\n",
       "  </thead>\n",
       "  <tbody>\n",
       "    <tr>\n",
       "      <th>R1</th>\n",
       "      <td>5</td>\n",
       "      <td>7</td>\n",
       "      <td>5</td>\n",
       "    </tr>\n",
       "    <tr>\n",
       "      <th>R2</th>\n",
       "      <td>7</td>\n",
       "      <td>5</td>\n",
       "      <td>5</td>\n",
       "    </tr>\n",
       "  </tbody>\n",
       "</table>\n",
       "</div>"
      ],
      "text/plain": [
       "    col1  col2  col3\n",
       "R1     5     7     5\n",
       "R2     7     5     5"
      ]
     },
     "execution_count": 12,
     "metadata": {},
     "output_type": "execute_result"
    }
   ],
   "source": [
    "df = pd.DataFrame(np.random.randint(1,10,(2,3)), columns=['col1','col2','col3'],index=['R1','R2'])\n",
    "df"
   ]
  },
  {
   "cell_type": "code",
   "execution_count": 13,
   "id": "c92dd177",
   "metadata": {},
   "outputs": [
    {
     "name": "stdout",
     "output_type": "stream",
     "text": [
      "       col1      col2      col3\n",
      "0  0.158407  1.278264  1.110399\n",
      "1  1.013713  0.762413       NaN\n",
      "2       NaN  0.532555  0.953135\n",
      "3  0.358439       NaN  0.706262\n",
      "4       NaN  0.473031       NaN\n"
     ]
    },
    {
     "name": "stderr",
     "output_type": "stream",
     "text": [
      "C:\\Users\\harne\\anaconda3\\Lib\\site-packages\\pandas\\core\\internals\\blocks.py:366: RuntimeWarning: invalid value encountered in sqrt\n",
      "  result = func(self.values, **kwargs)\n"
     ]
    }
   ],
   "source": [
    "df = pd.DataFrame(np.random.randn(5,3),columns=['col1','col2','col3'])\n",
    "df1 = df.pipe(np.sqrt)\n",
    "print(df1)"
   ]
  },
  {
   "cell_type": "code",
   "execution_count": null,
   "id": "ca9a1870-f030-4428-bc8e-97402f615522",
   "metadata": {},
   "outputs": [],
   "source": []
  },
  {
   "cell_type": "code",
   "execution_count": 14,
   "id": "e62939aa",
   "metadata": {},
   "outputs": [
    {
     "data": {
      "text/html": [
       "<div>\n",
       "<style scoped>\n",
       "    .dataframe tbody tr th:only-of-type {\n",
       "        vertical-align: middle;\n",
       "    }\n",
       "\n",
       "    .dataframe tbody tr th {\n",
       "        vertical-align: top;\n",
       "    }\n",
       "\n",
       "    .dataframe thead th {\n",
       "        text-align: right;\n",
       "    }\n",
       "</style>\n",
       "<table border=\"1\" class=\"dataframe\">\n",
       "  <thead>\n",
       "    <tr style=\"text-align: right;\">\n",
       "      <th></th>\n",
       "      <th>col1</th>\n",
       "      <th>col2</th>\n",
       "      <th>col3</th>\n",
       "    </tr>\n",
       "  </thead>\n",
       "  <tbody>\n",
       "    <tr>\n",
       "      <th>0</th>\n",
       "      <td>0.158407</td>\n",
       "      <td>1.278264</td>\n",
       "      <td>1.110399</td>\n",
       "    </tr>\n",
       "    <tr>\n",
       "      <th>1</th>\n",
       "      <td>1.013713</td>\n",
       "      <td>0.762413</td>\n",
       "      <td>NaN</td>\n",
       "    </tr>\n",
       "    <tr>\n",
       "      <th>2</th>\n",
       "      <td>NaN</td>\n",
       "      <td>0.532555</td>\n",
       "      <td>0.953135</td>\n",
       "    </tr>\n",
       "    <tr>\n",
       "      <th>3</th>\n",
       "      <td>0.358439</td>\n",
       "      <td>NaN</td>\n",
       "      <td>0.706262</td>\n",
       "    </tr>\n",
       "    <tr>\n",
       "      <th>4</th>\n",
       "      <td>NaN</td>\n",
       "      <td>0.473031</td>\n",
       "      <td>NaN</td>\n",
       "    </tr>\n",
       "  </tbody>\n",
       "</table>\n",
       "</div>"
      ],
      "text/plain": [
       "       col1      col2      col3\n",
       "0  0.158407  1.278264  1.110399\n",
       "1  1.013713  0.762413       NaN\n",
       "2       NaN  0.532555  0.953135\n",
       "3  0.358439       NaN  0.706262\n",
       "4       NaN  0.473031       NaN"
      ]
     },
     "execution_count": 14,
     "metadata": {},
     "output_type": "execute_result"
    }
   ],
   "source": [
    "df.apply(np.sqrt)"
   ]
  },
  {
   "cell_type": "code",
   "execution_count": 15,
   "id": "7a80d7d8",
   "metadata": {},
   "outputs": [
    {
     "name": "stderr",
     "output_type": "stream",
     "text": [
      "C:\\Users\\harne\\AppData\\Local\\Temp\\ipykernel_12984\\2067765065.py:1: FutureWarning: DataFrame.applymap has been deprecated. Use DataFrame.map instead.\n",
      "  df.applymap(np.sqrt)\n",
      "C:\\Users\\harne\\anaconda3\\Lib\\site-packages\\pandas\\core\\algorithms.py:1814: RuntimeWarning: invalid value encountered in sqrt\n",
      "  return lib.map_infer(values, mapper, convert=convert)\n"
     ]
    },
    {
     "data": {
      "text/html": [
       "<div>\n",
       "<style scoped>\n",
       "    .dataframe tbody tr th:only-of-type {\n",
       "        vertical-align: middle;\n",
       "    }\n",
       "\n",
       "    .dataframe tbody tr th {\n",
       "        vertical-align: top;\n",
       "    }\n",
       "\n",
       "    .dataframe thead th {\n",
       "        text-align: right;\n",
       "    }\n",
       "</style>\n",
       "<table border=\"1\" class=\"dataframe\">\n",
       "  <thead>\n",
       "    <tr style=\"text-align: right;\">\n",
       "      <th></th>\n",
       "      <th>col1</th>\n",
       "      <th>col2</th>\n",
       "      <th>col3</th>\n",
       "    </tr>\n",
       "  </thead>\n",
       "  <tbody>\n",
       "    <tr>\n",
       "      <th>0</th>\n",
       "      <td>0.158407</td>\n",
       "      <td>1.278264</td>\n",
       "      <td>1.110399</td>\n",
       "    </tr>\n",
       "    <tr>\n",
       "      <th>1</th>\n",
       "      <td>1.013713</td>\n",
       "      <td>0.762413</td>\n",
       "      <td>NaN</td>\n",
       "    </tr>\n",
       "    <tr>\n",
       "      <th>2</th>\n",
       "      <td>NaN</td>\n",
       "      <td>0.532555</td>\n",
       "      <td>0.953135</td>\n",
       "    </tr>\n",
       "    <tr>\n",
       "      <th>3</th>\n",
       "      <td>0.358439</td>\n",
       "      <td>NaN</td>\n",
       "      <td>0.706262</td>\n",
       "    </tr>\n",
       "    <tr>\n",
       "      <th>4</th>\n",
       "      <td>NaN</td>\n",
       "      <td>0.473031</td>\n",
       "      <td>NaN</td>\n",
       "    </tr>\n",
       "  </tbody>\n",
       "</table>\n",
       "</div>"
      ],
      "text/plain": [
       "       col1      col2      col3\n",
       "0  0.158407  1.278264  1.110399\n",
       "1  1.013713  0.762413       NaN\n",
       "2       NaN  0.532555  0.953135\n",
       "3  0.358439       NaN  0.706262\n",
       "4       NaN  0.473031       NaN"
      ]
     },
     "execution_count": 15,
     "metadata": {},
     "output_type": "execute_result"
    }
   ],
   "source": [
    "df.applymap(np.sqrt)"
   ]
  },
  {
   "cell_type": "code",
   "execution_count": 16,
   "id": "cac5748c",
   "metadata": {},
   "outputs": [
    {
     "name": "stdout",
     "output_type": "stream",
     "text": [
      "       col1      col2      col3\n",
      "0  0.025093  1.633958  1.232986\n",
      "1  1.027614  0.581274 -0.432203\n",
      "2 -0.372349  0.283615  0.908467\n",
      "3  0.128478 -0.425356  0.498806\n",
      "4 -0.851429  0.223758 -0.355529\n"
     ]
    },
    {
     "data": {
      "text/plain": [
       "col1   -0.042592\n",
       "col2    2.297249\n",
       "col3    1.852526\n",
       "dtype: float64"
      ]
     },
     "execution_count": 16,
     "metadata": {},
     "output_type": "execute_result"
    }
   ],
   "source": [
    "print(df)\n",
    "df.apply(lambda x: x.sum(),axis = 0)"
   ]
  },
  {
   "cell_type": "code",
   "execution_count": 17,
   "id": "f171a3f4",
   "metadata": {},
   "outputs": [
    {
     "name": "stdout",
     "output_type": "stream",
     "text": [
      "       col1      col2      col3\n",
      "0  0.025093  1.633958  1.232986\n",
      "1  1.027614  0.581274 -0.432203\n",
      "2 -0.372349  0.283615  0.908467\n",
      "3  0.128478 -0.425356  0.498806\n",
      "4 -0.851429  0.223758 -0.355529\n"
     ]
    },
    {
     "name": "stderr",
     "output_type": "stream",
     "text": [
      "C:\\Users\\harne\\AppData\\Local\\Temp\\ipykernel_12984\\3777724581.py:2: FutureWarning: DataFrame.applymap has been deprecated. Use DataFrame.map instead.\n",
      "  df.applymap(lambda x: x+10)\n"
     ]
    },
    {
     "data": {
      "text/html": [
       "<div>\n",
       "<style scoped>\n",
       "    .dataframe tbody tr th:only-of-type {\n",
       "        vertical-align: middle;\n",
       "    }\n",
       "\n",
       "    .dataframe tbody tr th {\n",
       "        vertical-align: top;\n",
       "    }\n",
       "\n",
       "    .dataframe thead th {\n",
       "        text-align: right;\n",
       "    }\n",
       "</style>\n",
       "<table border=\"1\" class=\"dataframe\">\n",
       "  <thead>\n",
       "    <tr style=\"text-align: right;\">\n",
       "      <th></th>\n",
       "      <th>col1</th>\n",
       "      <th>col2</th>\n",
       "      <th>col3</th>\n",
       "    </tr>\n",
       "  </thead>\n",
       "  <tbody>\n",
       "    <tr>\n",
       "      <th>0</th>\n",
       "      <td>10.025093</td>\n",
       "      <td>11.633958</td>\n",
       "      <td>11.232986</td>\n",
       "    </tr>\n",
       "    <tr>\n",
       "      <th>1</th>\n",
       "      <td>11.027614</td>\n",
       "      <td>10.581274</td>\n",
       "      <td>9.567797</td>\n",
       "    </tr>\n",
       "    <tr>\n",
       "      <th>2</th>\n",
       "      <td>9.627651</td>\n",
       "      <td>10.283615</td>\n",
       "      <td>10.908467</td>\n",
       "    </tr>\n",
       "    <tr>\n",
       "      <th>3</th>\n",
       "      <td>10.128478</td>\n",
       "      <td>9.574644</td>\n",
       "      <td>10.498806</td>\n",
       "    </tr>\n",
       "    <tr>\n",
       "      <th>4</th>\n",
       "      <td>9.148571</td>\n",
       "      <td>10.223758</td>\n",
       "      <td>9.644471</td>\n",
       "    </tr>\n",
       "  </tbody>\n",
       "</table>\n",
       "</div>"
      ],
      "text/plain": [
       "        col1       col2       col3\n",
       "0  10.025093  11.633958  11.232986\n",
       "1  11.027614  10.581274   9.567797\n",
       "2   9.627651  10.283615  10.908467\n",
       "3  10.128478   9.574644  10.498806\n",
       "4   9.148571  10.223758   9.644471"
      ]
     },
     "execution_count": 17,
     "metadata": {},
     "output_type": "execute_result"
    }
   ],
   "source": [
    "print(df)\n",
    "df.applymap(lambda x: x+10)"
   ]
  },
  {
   "cell_type": "code",
   "execution_count": 18,
   "id": "95504f3c",
   "metadata": {},
   "outputs": [
    {
     "name": "stderr",
     "output_type": "stream",
     "text": [
      "C:\\Users\\harne\\AppData\\Local\\Temp\\ipykernel_12984\\122759496.py:1: FutureWarning: DataFrame.applymap has been deprecated. Use DataFrame.map instead.\n",
      "  df.applymap(np.abs).applymap(np.sqrt).applymap(lambda x: x+ 10)\n"
     ]
    },
    {
     "data": {
      "text/html": [
       "<div>\n",
       "<style scoped>\n",
       "    .dataframe tbody tr th:only-of-type {\n",
       "        vertical-align: middle;\n",
       "    }\n",
       "\n",
       "    .dataframe tbody tr th {\n",
       "        vertical-align: top;\n",
       "    }\n",
       "\n",
       "    .dataframe thead th {\n",
       "        text-align: right;\n",
       "    }\n",
       "</style>\n",
       "<table border=\"1\" class=\"dataframe\">\n",
       "  <thead>\n",
       "    <tr style=\"text-align: right;\">\n",
       "      <th></th>\n",
       "      <th>col1</th>\n",
       "      <th>col2</th>\n",
       "      <th>col3</th>\n",
       "    </tr>\n",
       "  </thead>\n",
       "  <tbody>\n",
       "    <tr>\n",
       "      <th>0</th>\n",
       "      <td>10.158407</td>\n",
       "      <td>11.278264</td>\n",
       "      <td>11.110399</td>\n",
       "    </tr>\n",
       "    <tr>\n",
       "      <th>1</th>\n",
       "      <td>11.013713</td>\n",
       "      <td>10.762413</td>\n",
       "      <td>10.657422</td>\n",
       "    </tr>\n",
       "    <tr>\n",
       "      <th>2</th>\n",
       "      <td>10.610204</td>\n",
       "      <td>10.532555</td>\n",
       "      <td>10.953135</td>\n",
       "    </tr>\n",
       "    <tr>\n",
       "      <th>3</th>\n",
       "      <td>10.358439</td>\n",
       "      <td>10.652193</td>\n",
       "      <td>10.706262</td>\n",
       "    </tr>\n",
       "    <tr>\n",
       "      <th>4</th>\n",
       "      <td>10.922729</td>\n",
       "      <td>10.473031</td>\n",
       "      <td>10.596263</td>\n",
       "    </tr>\n",
       "  </tbody>\n",
       "</table>\n",
       "</div>"
      ],
      "text/plain": [
       "        col1       col2       col3\n",
       "0  10.158407  11.278264  11.110399\n",
       "1  11.013713  10.762413  10.657422\n",
       "2  10.610204  10.532555  10.953135\n",
       "3  10.358439  10.652193  10.706262\n",
       "4  10.922729  10.473031  10.596263"
      ]
     },
     "execution_count": 18,
     "metadata": {},
     "output_type": "execute_result"
    }
   ],
   "source": [
    "df.applymap(np.abs).applymap(np.sqrt).applymap(lambda x: x+ 10)"
   ]
  }
 ],
 "metadata": {
  "kernelspec": {
   "display_name": "Python 3 (ipykernel)",
   "language": "python",
   "name": "python3"
  },
  "language_info": {
   "codemirror_mode": {
    "name": "ipython",
    "version": 3
   },
   "file_extension": ".py",
   "mimetype": "text/x-python",
   "name": "python",
   "nbconvert_exporter": "python",
   "pygments_lexer": "ipython3",
   "version": "3.11.7"
  }
 },
 "nbformat": 4,
 "nbformat_minor": 5
}
